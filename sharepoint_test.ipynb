{
 "cells": [
  {
   "cell_type": "code",
   "execution_count": 6,
   "metadata": {},
   "outputs": [
    {
     "name": "stdout",
     "output_type": "stream",
     "text": [
      "Requirement already satisfied: Office365-REST-Python-Client in c:\\users\\jan c\\appdata\\local\\programs\\python\\python310\\lib\\site-packages (2.4.0)\n",
      "Requirement already satisfied: msal in c:\\users\\jan c\\appdata\\local\\programs\\python\\python310\\lib\\site-packages (from Office365-REST-Python-Client) (1.20.0)\n",
      "Requirement already satisfied: pytz in c:\\users\\jan c\\appdata\\local\\programs\\python\\python310\\lib\\site-packages (from Office365-REST-Python-Client) (2022.6)\n",
      "Requirement already satisfied: requests in c:\\users\\jan c\\appdata\\local\\programs\\python\\python310\\lib\\site-packages (from Office365-REST-Python-Client) (2.28.2)\n",
      "Requirement already satisfied: PyJWT[crypto]<3,>=1.0.0 in c:\\users\\jan c\\appdata\\local\\programs\\python\\python310\\lib\\site-packages (from msal->Office365-REST-Python-Client) (2.6.0)\n",
      "Requirement already satisfied: cryptography<41,>=0.6 in c:\\users\\jan c\\appdata\\local\\programs\\python\\python310\\lib\\site-packages (from msal->Office365-REST-Python-Client) (38.0.4)\n",
      "Requirement already satisfied: urllib3<1.27,>=1.21.1 in c:\\users\\jan c\\appdata\\local\\programs\\python\\python310\\lib\\site-packages (from requests->Office365-REST-Python-Client) (1.26.14)\n",
      "Requirement already satisfied: certifi>=2017.4.17 in c:\\users\\jan c\\appdata\\local\\programs\\python\\python310\\lib\\site-packages (from requests->Office365-REST-Python-Client) (2022.12.7)\n",
      "Requirement already satisfied: charset-normalizer<4,>=2 in c:\\users\\jan c\\appdata\\local\\programs\\python\\python310\\lib\\site-packages (from requests->Office365-REST-Python-Client) (3.0.1)\n",
      "Requirement already satisfied: idna<4,>=2.5 in c:\\users\\jan c\\appdata\\local\\programs\\python\\python310\\lib\\site-packages (from requests->Office365-REST-Python-Client) (3.4)\n",
      "Requirement already satisfied: cffi>=1.12 in c:\\users\\jan c\\appdata\\roaming\\python\\python310\\site-packages (from cryptography<41,>=0.6->msal->Office365-REST-Python-Client) (1.15.1)\n",
      "Requirement already satisfied: pycparser in c:\\users\\jan c\\appdata\\roaming\\python\\python310\\site-packages (from cffi>=1.12->cryptography<41,>=0.6->msal->Office365-REST-Python-Client) (2.21)\n"
     ]
    }
   ],
   "source": [
    "!pip install Office365-REST-Python-Client"
   ]
  },
  {
   "cell_type": "code",
   "execution_count": 5,
   "metadata": {},
   "outputs": [],
   "source": [
    "from office365.runtime.auth.authentication_context import AuthenticationContext\n",
    "from office365.sharepoint.client_context import ClientContext"
   ]
  },
  {
   "cell_type": "code",
   "execution_count": null,
   "metadata": {},
   "outputs": [],
   "source": [
    "site_url = 'https://<your-site-url>'\n",
    "username = '<your-username>'\n",
    "password = '<your-password>'"
   ]
  },
  {
   "cell_type": "code",
   "execution_count": null,
   "metadata": {},
   "outputs": [],
   "source": [
    "auth_context = AuthenticationContext(site_url)\n",
    "auth_context.acquire_token_for_user(username, password)"
   ]
  },
  {
   "cell_type": "code",
   "execution_count": null,
   "metadata": {},
   "outputs": [],
   "source": [
    "web = client_context.web\n",
    "lists = web.lists\n",
    "client_context.load(lists)\n",
    "client_context.execute_query()\n",
    "\n",
    "for list in lists:\n",
    "    print(list.title)\n"
   ]
  }
 ],
 "metadata": {
  "kernelspec": {
   "display_name": "Python 3",
   "language": "python",
   "name": "python3"
  },
  "language_info": {
   "codemirror_mode": {
    "name": "ipython",
    "version": 3
   },
   "file_extension": ".py",
   "mimetype": "text/x-python",
   "name": "python",
   "nbconvert_exporter": "python",
   "pygments_lexer": "ipython3",
   "version": "3.10.9"
  },
  "orig_nbformat": 4,
  "vscode": {
   "interpreter": {
    "hash": "af7e7935fcb9d4829fa44ff1cff94b3a4624854c7ab2600ec1533b28335d59a6"
   }
  }
 },
 "nbformat": 4,
 "nbformat_minor": 2
}
